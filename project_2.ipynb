{
  "cells": [
    {
      "cell_type": "markdown",
      "metadata": {
        "id": "view-in-github",
        "colab_type": "text"
      },
      "source": [
        "<a href=\"https://colab.research.google.com/github/Lirgis0/project_yandex_2/blob/main/project_2.ipynb\" target=\"_parent\"><img src=\"https://colab.research.google.com/assets/colab-badge.svg\" alt=\"Open In Colab\"/></a>"
      ]
    },
    {
      "cell_type": "markdown",
      "id": "c81daeeb",
      "metadata": {
        "deletable": false,
        "id": "c81daeeb"
      },
      "source": [
        "# Исследование надежности заемщиков\n"
      ]
    },
    {
      "cell_type": "markdown",
      "id": "744d7639",
      "metadata": {
        "deletable": false,
        "id": "744d7639"
      },
      "source": [
        "## Откройте таблицу и изучите общую информацию о данных"
      ]
    },
    {
      "cell_type": "markdown",
      "id": "e7a14c31",
      "metadata": {
        "deletable": false,
        "id": "e7a14c31"
      },
      "source": [
        "Импортируйте библиотеку pandas. Считайте данные из csv-файла в датафрейм и сохраните в переменную `data`. Путь к файлу:\n",
        "\n",
        "`/datasets/data.csv`"
      ]
    },
    {
      "cell_type": "code",
      "execution_count": null,
      "id": "7bcf75c9",
      "metadata": {
        "deletable": false,
        "id": "7bcf75c9"
      },
      "outputs": [],
      "source": [
        "import pandas as pd\n",
        "\n",
        "try:\n",
        "    data = pd.read_csv('/datasets/data.csv')\n",
        "except:\n",
        "    data = pd.read_csv('https://code.s3.yandex.net/datasets/data.csv')"
      ]
    },
    {
      "cell_type": "markdown",
      "id": "b8038fe3",
      "metadata": {
        "deletable": false,
        "id": "b8038fe3"
      },
      "source": [
        " Выведите первые 20 строчек датафрейма `data` на экран."
      ]
    },
    {
      "cell_type": "code",
      "execution_count": null,
      "id": "2a7cab99",
      "metadata": {
        "deletable": false,
        "id": "2a7cab99",
        "outputId": "1a8f3ef2-d323-4ec2-ddf7-89670b5944c4"
      },
      "outputs": [
        {
          "data": {
            "text/html": [
              "<div>\n",
              "<style scoped>\n",
              "    .dataframe tbody tr th:only-of-type {\n",
              "        vertical-align: middle;\n",
              "    }\n",
              "\n",
              "    .dataframe tbody tr th {\n",
              "        vertical-align: top;\n",
              "    }\n",
              "\n",
              "    .dataframe thead th {\n",
              "        text-align: right;\n",
              "    }\n",
              "</style>\n",
              "<table border=\"1\" class=\"dataframe\">\n",
              "  <thead>\n",
              "    <tr style=\"text-align: right;\">\n",
              "      <th></th>\n",
              "      <th>children</th>\n",
              "      <th>days_employed</th>\n",
              "      <th>dob_years</th>\n",
              "      <th>education</th>\n",
              "      <th>education_id</th>\n",
              "      <th>family_status</th>\n",
              "      <th>family_status_id</th>\n",
              "      <th>gender</th>\n",
              "      <th>income_type</th>\n",
              "      <th>debt</th>\n",
              "      <th>total_income</th>\n",
              "      <th>purpose</th>\n",
              "    </tr>\n",
              "  </thead>\n",
              "  <tbody>\n",
              "    <tr>\n",
              "      <th>0</th>\n",
              "      <td>1</td>\n",
              "      <td>-8437.673028</td>\n",
              "      <td>42</td>\n",
              "      <td>высшее</td>\n",
              "      <td>0</td>\n",
              "      <td>женат / замужем</td>\n",
              "      <td>0</td>\n",
              "      <td>F</td>\n",
              "      <td>сотрудник</td>\n",
              "      <td>0</td>\n",
              "      <td>253875.639453</td>\n",
              "      <td>покупка жилья</td>\n",
              "    </tr>\n",
              "    <tr>\n",
              "      <th>1</th>\n",
              "      <td>1</td>\n",
              "      <td>-4024.803754</td>\n",
              "      <td>36</td>\n",
              "      <td>среднее</td>\n",
              "      <td>1</td>\n",
              "      <td>женат / замужем</td>\n",
              "      <td>0</td>\n",
              "      <td>F</td>\n",
              "      <td>сотрудник</td>\n",
              "      <td>0</td>\n",
              "      <td>112080.014102</td>\n",
              "      <td>приобретение автомобиля</td>\n",
              "    </tr>\n",
              "    <tr>\n",
              "      <th>2</th>\n",
              "      <td>0</td>\n",
              "      <td>-5623.422610</td>\n",
              "      <td>33</td>\n",
              "      <td>Среднее</td>\n",
              "      <td>1</td>\n",
              "      <td>женат / замужем</td>\n",
              "      <td>0</td>\n",
              "      <td>M</td>\n",
              "      <td>сотрудник</td>\n",
              "      <td>0</td>\n",
              "      <td>145885.952297</td>\n",
              "      <td>покупка жилья</td>\n",
              "    </tr>\n",
              "    <tr>\n",
              "      <th>3</th>\n",
              "      <td>3</td>\n",
              "      <td>-4124.747207</td>\n",
              "      <td>32</td>\n",
              "      <td>среднее</td>\n",
              "      <td>1</td>\n",
              "      <td>женат / замужем</td>\n",
              "      <td>0</td>\n",
              "      <td>M</td>\n",
              "      <td>сотрудник</td>\n",
              "      <td>0</td>\n",
              "      <td>267628.550329</td>\n",
              "      <td>дополнительное образование</td>\n",
              "    </tr>\n",
              "    <tr>\n",
              "      <th>4</th>\n",
              "      <td>0</td>\n",
              "      <td>340266.072047</td>\n",
              "      <td>53</td>\n",
              "      <td>среднее</td>\n",
              "      <td>1</td>\n",
              "      <td>гражданский брак</td>\n",
              "      <td>1</td>\n",
              "      <td>F</td>\n",
              "      <td>пенсионер</td>\n",
              "      <td>0</td>\n",
              "      <td>158616.077870</td>\n",
              "      <td>сыграть свадьбу</td>\n",
              "    </tr>\n",
              "    <tr>\n",
              "      <th>5</th>\n",
              "      <td>0</td>\n",
              "      <td>-926.185831</td>\n",
              "      <td>27</td>\n",
              "      <td>высшее</td>\n",
              "      <td>0</td>\n",
              "      <td>гражданский брак</td>\n",
              "      <td>1</td>\n",
              "      <td>M</td>\n",
              "      <td>компаньон</td>\n",
              "      <td>0</td>\n",
              "      <td>255763.565419</td>\n",
              "      <td>покупка жилья</td>\n",
              "    </tr>\n",
              "    <tr>\n",
              "      <th>6</th>\n",
              "      <td>0</td>\n",
              "      <td>-2879.202052</td>\n",
              "      <td>43</td>\n",
              "      <td>высшее</td>\n",
              "      <td>0</td>\n",
              "      <td>женат / замужем</td>\n",
              "      <td>0</td>\n",
              "      <td>F</td>\n",
              "      <td>компаньон</td>\n",
              "      <td>0</td>\n",
              "      <td>240525.971920</td>\n",
              "      <td>операции с жильем</td>\n",
              "    </tr>\n",
              "    <tr>\n",
              "      <th>7</th>\n",
              "      <td>0</td>\n",
              "      <td>-152.779569</td>\n",
              "      <td>50</td>\n",
              "      <td>СРЕДНЕЕ</td>\n",
              "      <td>1</td>\n",
              "      <td>женат / замужем</td>\n",
              "      <td>0</td>\n",
              "      <td>M</td>\n",
              "      <td>сотрудник</td>\n",
              "      <td>0</td>\n",
              "      <td>135823.934197</td>\n",
              "      <td>образование</td>\n",
              "    </tr>\n",
              "    <tr>\n",
              "      <th>8</th>\n",
              "      <td>2</td>\n",
              "      <td>-6929.865299</td>\n",
              "      <td>35</td>\n",
              "      <td>ВЫСШЕЕ</td>\n",
              "      <td>0</td>\n",
              "      <td>гражданский брак</td>\n",
              "      <td>1</td>\n",
              "      <td>F</td>\n",
              "      <td>сотрудник</td>\n",
              "      <td>0</td>\n",
              "      <td>95856.832424</td>\n",
              "      <td>на проведение свадьбы</td>\n",
              "    </tr>\n",
              "    <tr>\n",
              "      <th>9</th>\n",
              "      <td>0</td>\n",
              "      <td>-2188.756445</td>\n",
              "      <td>41</td>\n",
              "      <td>среднее</td>\n",
              "      <td>1</td>\n",
              "      <td>женат / замужем</td>\n",
              "      <td>0</td>\n",
              "      <td>M</td>\n",
              "      <td>сотрудник</td>\n",
              "      <td>0</td>\n",
              "      <td>144425.938277</td>\n",
              "      <td>покупка жилья для семьи</td>\n",
              "    </tr>\n",
              "    <tr>\n",
              "      <th>10</th>\n",
              "      <td>2</td>\n",
              "      <td>-4171.483647</td>\n",
              "      <td>36</td>\n",
              "      <td>высшее</td>\n",
              "      <td>0</td>\n",
              "      <td>женат / замужем</td>\n",
              "      <td>0</td>\n",
              "      <td>M</td>\n",
              "      <td>компаньон</td>\n",
              "      <td>0</td>\n",
              "      <td>113943.491460</td>\n",
              "      <td>покупка недвижимости</td>\n",
              "    </tr>\n",
              "    <tr>\n",
              "      <th>11</th>\n",
              "      <td>0</td>\n",
              "      <td>-792.701887</td>\n",
              "      <td>40</td>\n",
              "      <td>среднее</td>\n",
              "      <td>1</td>\n",
              "      <td>женат / замужем</td>\n",
              "      <td>0</td>\n",
              "      <td>F</td>\n",
              "      <td>сотрудник</td>\n",
              "      <td>0</td>\n",
              "      <td>77069.234271</td>\n",
              "      <td>покупка коммерческой недвижимости</td>\n",
              "    </tr>\n",
              "    <tr>\n",
              "      <th>12</th>\n",
              "      <td>0</td>\n",
              "      <td>NaN</td>\n",
              "      <td>65</td>\n",
              "      <td>среднее</td>\n",
              "      <td>1</td>\n",
              "      <td>гражданский брак</td>\n",
              "      <td>1</td>\n",
              "      <td>M</td>\n",
              "      <td>пенсионер</td>\n",
              "      <td>0</td>\n",
              "      <td>NaN</td>\n",
              "      <td>сыграть свадьбу</td>\n",
              "    </tr>\n",
              "    <tr>\n",
              "      <th>13</th>\n",
              "      <td>0</td>\n",
              "      <td>-1846.641941</td>\n",
              "      <td>54</td>\n",
              "      <td>неоконченное высшее</td>\n",
              "      <td>2</td>\n",
              "      <td>женат / замужем</td>\n",
              "      <td>0</td>\n",
              "      <td>F</td>\n",
              "      <td>сотрудник</td>\n",
              "      <td>0</td>\n",
              "      <td>130458.228857</td>\n",
              "      <td>приобретение автомобиля</td>\n",
              "    </tr>\n",
              "    <tr>\n",
              "      <th>14</th>\n",
              "      <td>0</td>\n",
              "      <td>-1844.956182</td>\n",
              "      <td>56</td>\n",
              "      <td>высшее</td>\n",
              "      <td>0</td>\n",
              "      <td>гражданский брак</td>\n",
              "      <td>1</td>\n",
              "      <td>F</td>\n",
              "      <td>компаньон</td>\n",
              "      <td>1</td>\n",
              "      <td>165127.911772</td>\n",
              "      <td>покупка жилой недвижимости</td>\n",
              "    </tr>\n",
              "    <tr>\n",
              "      <th>15</th>\n",
              "      <td>1</td>\n",
              "      <td>-972.364419</td>\n",
              "      <td>26</td>\n",
              "      <td>среднее</td>\n",
              "      <td>1</td>\n",
              "      <td>женат / замужем</td>\n",
              "      <td>0</td>\n",
              "      <td>F</td>\n",
              "      <td>сотрудник</td>\n",
              "      <td>0</td>\n",
              "      <td>116820.904450</td>\n",
              "      <td>строительство собственной недвижимости</td>\n",
              "    </tr>\n",
              "    <tr>\n",
              "      <th>16</th>\n",
              "      <td>0</td>\n",
              "      <td>-1719.934226</td>\n",
              "      <td>35</td>\n",
              "      <td>среднее</td>\n",
              "      <td>1</td>\n",
              "      <td>женат / замужем</td>\n",
              "      <td>0</td>\n",
              "      <td>F</td>\n",
              "      <td>сотрудник</td>\n",
              "      <td>0</td>\n",
              "      <td>289202.704229</td>\n",
              "      <td>недвижимость</td>\n",
              "    </tr>\n",
              "    <tr>\n",
              "      <th>17</th>\n",
              "      <td>0</td>\n",
              "      <td>-2369.999720</td>\n",
              "      <td>33</td>\n",
              "      <td>высшее</td>\n",
              "      <td>0</td>\n",
              "      <td>гражданский брак</td>\n",
              "      <td>1</td>\n",
              "      <td>M</td>\n",
              "      <td>сотрудник</td>\n",
              "      <td>0</td>\n",
              "      <td>90410.586745</td>\n",
              "      <td>строительство недвижимости</td>\n",
              "    </tr>\n",
              "    <tr>\n",
              "      <th>18</th>\n",
              "      <td>0</td>\n",
              "      <td>400281.136913</td>\n",
              "      <td>53</td>\n",
              "      <td>среднее</td>\n",
              "      <td>1</td>\n",
              "      <td>вдовец / вдова</td>\n",
              "      <td>2</td>\n",
              "      <td>F</td>\n",
              "      <td>пенсионер</td>\n",
              "      <td>0</td>\n",
              "      <td>56823.777243</td>\n",
              "      <td>на покупку подержанного автомобиля</td>\n",
              "    </tr>\n",
              "    <tr>\n",
              "      <th>19</th>\n",
              "      <td>0</td>\n",
              "      <td>-10038.818549</td>\n",
              "      <td>48</td>\n",
              "      <td>СРЕДНЕЕ</td>\n",
              "      <td>1</td>\n",
              "      <td>в разводе</td>\n",
              "      <td>3</td>\n",
              "      <td>F</td>\n",
              "      <td>сотрудник</td>\n",
              "      <td>0</td>\n",
              "      <td>242831.107982</td>\n",
              "      <td>на покупку своего автомобиля</td>\n",
              "    </tr>\n",
              "  </tbody>\n",
              "</table>\n",
              "</div>"
            ],
            "text/plain": [
              "    children  days_employed  dob_years            education  education_id  \\\n",
              "0          1   -8437.673028         42               высшее             0   \n",
              "1          1   -4024.803754         36              среднее             1   \n",
              "2          0   -5623.422610         33              Среднее             1   \n",
              "3          3   -4124.747207         32              среднее             1   \n",
              "4          0  340266.072047         53              среднее             1   \n",
              "5          0    -926.185831         27               высшее             0   \n",
              "6          0   -2879.202052         43               высшее             0   \n",
              "7          0    -152.779569         50              СРЕДНЕЕ             1   \n",
              "8          2   -6929.865299         35               ВЫСШЕЕ             0   \n",
              "9          0   -2188.756445         41              среднее             1   \n",
              "10         2   -4171.483647         36               высшее             0   \n",
              "11         0    -792.701887         40              среднее             1   \n",
              "12         0            NaN         65              среднее             1   \n",
              "13         0   -1846.641941         54  неоконченное высшее             2   \n",
              "14         0   -1844.956182         56               высшее             0   \n",
              "15         1    -972.364419         26              среднее             1   \n",
              "16         0   -1719.934226         35              среднее             1   \n",
              "17         0   -2369.999720         33               высшее             0   \n",
              "18         0  400281.136913         53              среднее             1   \n",
              "19         0  -10038.818549         48              СРЕДНЕЕ             1   \n",
              "\n",
              "       family_status  family_status_id gender income_type  debt  \\\n",
              "0    женат / замужем                 0      F   сотрудник     0   \n",
              "1    женат / замужем                 0      F   сотрудник     0   \n",
              "2    женат / замужем                 0      M   сотрудник     0   \n",
              "3    женат / замужем                 0      M   сотрудник     0   \n",
              "4   гражданский брак                 1      F   пенсионер     0   \n",
              "5   гражданский брак                 1      M   компаньон     0   \n",
              "6    женат / замужем                 0      F   компаньон     0   \n",
              "7    женат / замужем                 0      M   сотрудник     0   \n",
              "8   гражданский брак                 1      F   сотрудник     0   \n",
              "9    женат / замужем                 0      M   сотрудник     0   \n",
              "10   женат / замужем                 0      M   компаньон     0   \n",
              "11   женат / замужем                 0      F   сотрудник     0   \n",
              "12  гражданский брак                 1      M   пенсионер     0   \n",
              "13   женат / замужем                 0      F   сотрудник     0   \n",
              "14  гражданский брак                 1      F   компаньон     1   \n",
              "15   женат / замужем                 0      F   сотрудник     0   \n",
              "16   женат / замужем                 0      F   сотрудник     0   \n",
              "17  гражданский брак                 1      M   сотрудник     0   \n",
              "18    вдовец / вдова                 2      F   пенсионер     0   \n",
              "19         в разводе                 3      F   сотрудник     0   \n",
              "\n",
              "     total_income                                 purpose  \n",
              "0   253875.639453                           покупка жилья  \n",
              "1   112080.014102                 приобретение автомобиля  \n",
              "2   145885.952297                           покупка жилья  \n",
              "3   267628.550329              дополнительное образование  \n",
              "4   158616.077870                         сыграть свадьбу  \n",
              "5   255763.565419                           покупка жилья  \n",
              "6   240525.971920                       операции с жильем  \n",
              "7   135823.934197                             образование  \n",
              "8    95856.832424                   на проведение свадьбы  \n",
              "9   144425.938277                 покупка жилья для семьи  \n",
              "10  113943.491460                    покупка недвижимости  \n",
              "11   77069.234271       покупка коммерческой недвижимости  \n",
              "12            NaN                         сыграть свадьбу  \n",
              "13  130458.228857                 приобретение автомобиля  \n",
              "14  165127.911772              покупка жилой недвижимости  \n",
              "15  116820.904450  строительство собственной недвижимости  \n",
              "16  289202.704229                            недвижимость  \n",
              "17   90410.586745              строительство недвижимости  \n",
              "18   56823.777243      на покупку подержанного автомобиля  \n",
              "19  242831.107982            на покупку своего автомобиля  "
            ]
          },
          "execution_count": 2,
          "metadata": {},
          "output_type": "execute_result"
        }
      ],
      "source": [
        "data.head(20)"
      ]
    },
    {
      "cell_type": "markdown",
      "id": "1c12e233",
      "metadata": {
        "deletable": false,
        "id": "1c12e233"
      },
      "source": [
        " Выведите основную информацию о датафрейме с помощью метода `info()`."
      ]
    },
    {
      "cell_type": "code",
      "execution_count": null,
      "id": "2b757bca",
      "metadata": {
        "deletable": false,
        "id": "2b757bca",
        "outputId": "15376089-8dad-46c9-b520-c05248d43158"
      },
      "outputs": [
        {
          "name": "stdout",
          "output_type": "stream",
          "text": [
            "<class 'pandas.core.frame.DataFrame'>\n",
            "RangeIndex: 21525 entries, 0 to 21524\n",
            "Data columns (total 12 columns):\n",
            " #   Column            Non-Null Count  Dtype  \n",
            "---  ------            --------------  -----  \n",
            " 0   children          21525 non-null  int64  \n",
            " 1   days_employed     19351 non-null  float64\n",
            " 2   dob_years         21525 non-null  int64  \n",
            " 3   education         21525 non-null  object \n",
            " 4   education_id      21525 non-null  int64  \n",
            " 5   family_status     21525 non-null  object \n",
            " 6   family_status_id  21525 non-null  int64  \n",
            " 7   gender            21525 non-null  object \n",
            " 8   income_type       21525 non-null  object \n",
            " 9   debt              21525 non-null  int64  \n",
            " 10  total_income      19351 non-null  float64\n",
            " 11  purpose           21525 non-null  object \n",
            "dtypes: float64(2), int64(5), object(5)\n",
            "memory usage: 2.0+ MB\n"
          ]
        }
      ],
      "source": [
        "data.info()"
      ]
    },
    {
      "cell_type": "markdown",
      "id": "333ec665",
      "metadata": {
        "deletable": false,
        "id": "333ec665"
      },
      "source": [
        "## Предобработка данных"
      ]
    },
    {
      "cell_type": "markdown",
      "id": "02d92d53",
      "metadata": {
        "deletable": false,
        "id": "02d92d53"
      },
      "source": [
        "### Удаление пропусков"
      ]
    },
    {
      "cell_type": "markdown",
      "id": "cd84967c",
      "metadata": {
        "deletable": false,
        "id": "cd84967c"
      },
      "source": [
        " Выведите количество пропущенных значений для каждого столбца. Используйте комбинацию двух методов."
      ]
    },
    {
      "cell_type": "code",
      "execution_count": null,
      "id": "7f9b2309",
      "metadata": {
        "deletable": false,
        "id": "7f9b2309",
        "outputId": "81f4d817-781c-465c-ed15-91ce4446810d"
      },
      "outputs": [
        {
          "data": {
            "text/plain": [
              "children               0\n",
              "days_employed       2174\n",
              "dob_years              0\n",
              "education              0\n",
              "education_id           0\n",
              "family_status          0\n",
              "family_status_id       0\n",
              "gender                 0\n",
              "income_type            0\n",
              "debt                   0\n",
              "total_income        2174\n",
              "purpose                0\n",
              "dtype: int64"
            ]
          },
          "execution_count": 4,
          "metadata": {},
          "output_type": "execute_result"
        }
      ],
      "source": [
        "data.isna().sum()"
      ]
    },
    {
      "cell_type": "markdown",
      "id": "db86e27b",
      "metadata": {
        "deletable": false,
        "id": "db86e27b"
      },
      "source": [
        " В двух столбцах есть пропущенные значения. Один из них — `days_employed`. Пропуски в этом столбце вы обработаете на следующем этапе. Другой столбец с пропущенными значениями — `total_income` — хранит данные о доходах. На сумму дохода сильнее всего влияет тип занятости, поэтому заполнить пропуски в этом столбце нужно медианным значением по каждому типу из столбца `income_type`. Например, у человека с типом занятости `сотрудник` пропуск в столбце `total_income` должен быть заполнен медианным доходом среди всех записей с тем же типом."
      ]
    },
    {
      "cell_type": "code",
      "execution_count": null,
      "id": "42006a93",
      "metadata": {
        "deletable": false,
        "id": "42006a93"
      },
      "outputs": [],
      "source": [
        "for t in data['income_type'].unique():\n",
        "    data.loc[(data['income_type'] == t) & (data['total_income'].isna()), 'total_income'] = \\\n",
        "    data.loc[(data['income_type'] == t), 'total_income'].median()"
      ]
    },
    {
      "cell_type": "markdown",
      "id": "89da5ece",
      "metadata": {
        "deletable": false,
        "id": "89da5ece"
      },
      "source": [
        "### Обработка аномальных значений"
      ]
    },
    {
      "cell_type": "markdown",
      "id": "57964554",
      "metadata": {
        "deletable": false,
        "id": "57964554"
      },
      "source": [
        " В данных могут встречаться артефакты (аномалии) — значения, которые не отражают действительность и появились по какой-то ошибке. таким артефактом будет отрицательное количество дней трудового стажа в столбце `days_employed`. Для реальных данных это нормально. Обработайте значения в этом столбце: замените все отрицательные значения положительными с помощью метода `abs()`."
      ]
    },
    {
      "cell_type": "code",
      "execution_count": null,
      "id": "f6f055bf",
      "metadata": {
        "deletable": false,
        "id": "f6f055bf"
      },
      "outputs": [],
      "source": [
        "data['days_employed'] = data['days_employed'].abs()"
      ]
    },
    {
      "cell_type": "markdown",
      "id": "6107dd2f",
      "metadata": {
        "deletable": false,
        "id": "6107dd2f"
      },
      "source": [
        "Для каждого типа занятости выведите медианное значение трудового стажа `days_employed` в днях."
      ]
    },
    {
      "cell_type": "code",
      "execution_count": null,
      "id": "85a5faf6",
      "metadata": {
        "deletable": false,
        "id": "85a5faf6",
        "outputId": "801ef80e-522b-4668-f34e-565af7432bcf"
      },
      "outputs": [
        {
          "data": {
            "text/plain": [
              "income_type\n",
              "безработный        366413.652744\n",
              "в декрете            3296.759962\n",
              "госслужащий          2689.368353\n",
              "компаньон            1547.382223\n",
              "пенсионер          365213.306266\n",
              "предприниматель       520.848083\n",
              "сотрудник            1574.202821\n",
              "студент               578.751554\n",
              "Name: days_employed, dtype: float64"
            ]
          },
          "execution_count": 7,
          "metadata": {},
          "output_type": "execute_result"
        }
      ],
      "source": [
        "data.groupby('income_type')['days_employed'].agg('median')"
      ]
    },
    {
      "cell_type": "markdown",
      "id": "38d1a030",
      "metadata": {
        "deletable": false,
        "id": "38d1a030"
      },
      "source": [
        "У двух типов (безработные и пенсионеры) получатся аномально большие значения. Исправить такие значения сложно, поэтому оставьте их как есть. Тем более этот столбец не понадобится вам для исследования."
      ]
    },
    {
      "cell_type": "markdown",
      "id": "d8a9f147",
      "metadata": {
        "deletable": false,
        "id": "d8a9f147"
      },
      "source": [
        "Выведите перечень уникальных значений столбца `children`."
      ]
    },
    {
      "cell_type": "code",
      "execution_count": null,
      "id": "ef5056eb",
      "metadata": {
        "deletable": false,
        "id": "ef5056eb",
        "outputId": "6975b15c-7f95-4697-d16d-a0c79b657b03"
      },
      "outputs": [
        {
          "data": {
            "text/plain": [
              "array([ 1,  0,  3,  2, -1,  4, 20,  5])"
            ]
          },
          "execution_count": 8,
          "metadata": {},
          "output_type": "execute_result"
        }
      ],
      "source": [
        "data['children'].unique()"
      ]
    },
    {
      "cell_type": "markdown",
      "id": "40b9ebf2",
      "metadata": {
        "deletable": false,
        "id": "40b9ebf2"
      },
      "source": [
        " В столбце `children` есть два аномальных значения. Удалите строки, в которых встречаются такие аномальные значения из датафрейма `data`."
      ]
    },
    {
      "cell_type": "code",
      "execution_count": null,
      "id": "3ff9801d",
      "metadata": {
        "deletable": false,
        "id": "3ff9801d"
      },
      "outputs": [],
      "source": [
        "data = data[(data['children'] != -1) & (data['children'] != 20)]"
      ]
    },
    {
      "cell_type": "markdown",
      "id": "bbc4d0ce",
      "metadata": {
        "deletable": false,
        "id": "bbc4d0ce"
      },
      "source": [
        " Ещё раз выведите перечень уникальных значений столбца `children`, чтобы убедиться, что артефакты удалены."
      ]
    },
    {
      "cell_type": "code",
      "execution_count": null,
      "id": "ad4fa8b7",
      "metadata": {
        "deletable": false,
        "id": "ad4fa8b7",
        "outputId": "b2097101-d49d-44d9-901b-32a65c9463d1"
      },
      "outputs": [
        {
          "data": {
            "text/plain": [
              "array([1, 0, 3, 2, 4, 5])"
            ]
          },
          "execution_count": 10,
          "metadata": {},
          "output_type": "execute_result"
        }
      ],
      "source": [
        "data['children'].unique()"
      ]
    },
    {
      "cell_type": "markdown",
      "id": "75440b63",
      "metadata": {
        "deletable": false,
        "id": "75440b63"
      },
      "source": [
        "### Удаление пропусков (продолжение)"
      ]
    },
    {
      "cell_type": "markdown",
      "id": "f4ea573f",
      "metadata": {
        "deletable": false,
        "id": "f4ea573f"
      },
      "source": [
        " Заполните пропуски в столбце `days_employed` медианными значениями по каждого типа занятости `income_type`."
      ]
    },
    {
      "cell_type": "code",
      "execution_count": null,
      "id": "af6b1a7e",
      "metadata": {
        "deletable": false,
        "id": "af6b1a7e"
      },
      "outputs": [],
      "source": [
        "for t in data['income_type'].unique():\n",
        "    data.loc[(data['income_type'] == t) & (data['days_employed'].isna()), 'days_employed'] = \\\n",
        "    data.loc[(data['income_type'] == t), 'days_employed'].median()"
      ]
    },
    {
      "cell_type": "markdown",
      "id": "2753f40d",
      "metadata": {
        "deletable": false,
        "id": "2753f40d"
      },
      "source": [
        "Убедитесь, что все пропуски заполнены. Проверьте себя и ещё раз выведите количество пропущенных значений для каждого столбца с помощью двух методов."
      ]
    },
    {
      "cell_type": "code",
      "execution_count": null,
      "id": "55f78bc2",
      "metadata": {
        "deletable": false,
        "id": "55f78bc2",
        "outputId": "8da1e4e1-358e-4e87-98c9-f261bce0a7b2"
      },
      "outputs": [
        {
          "data": {
            "text/plain": [
              "children            0\n",
              "days_employed       0\n",
              "dob_years           0\n",
              "education           0\n",
              "education_id        0\n",
              "family_status       0\n",
              "family_status_id    0\n",
              "gender              0\n",
              "income_type         0\n",
              "debt                0\n",
              "total_income        0\n",
              "purpose             0\n",
              "dtype: int64"
            ]
          },
          "execution_count": 12,
          "metadata": {},
          "output_type": "execute_result"
        }
      ],
      "source": [
        "data.isna().sum()"
      ]
    },
    {
      "cell_type": "markdown",
      "id": "ddc81e43",
      "metadata": {
        "deletable": false,
        "id": "ddc81e43"
      },
      "source": [
        "### Изменение типов данных"
      ]
    },
    {
      "cell_type": "markdown",
      "id": "42d19d24",
      "metadata": {
        "deletable": false,
        "id": "42d19d24"
      },
      "source": [
        " Замените вещественный тип данных в столбце `total_income` на целочисленный с помощью метода `astype()`."
      ]
    },
    {
      "cell_type": "code",
      "execution_count": null,
      "id": "920b65ad",
      "metadata": {
        "deletable": false,
        "id": "920b65ad"
      },
      "outputs": [],
      "source": [
        "data['total_income'] = data['total_income'].astype(int)"
      ]
    },
    {
      "cell_type": "markdown",
      "id": "80c420ba",
      "metadata": {
        "deletable": false,
        "id": "80c420ba"
      },
      "source": [
        "### Обработка дубликатов"
      ]
    },
    {
      "cell_type": "markdown",
      "id": "dc587695",
      "metadata": {
        "deletable": false,
        "id": "dc587695"
      },
      "source": [
        " Выведите на экран количество строк-дубликатов в данных. Если такие строки присутствуют, удалите их."
      ]
    },
    {
      "cell_type": "code",
      "execution_count": null,
      "id": "3ee445e4",
      "metadata": {
        "deletable": false,
        "id": "3ee445e4",
        "outputId": "9684deba-1934-42d1-99e1-cda61740f822"
      },
      "outputs": [
        {
          "data": {
            "text/plain": [
              "54"
            ]
          },
          "execution_count": 14,
          "metadata": {},
          "output_type": "execute_result"
        }
      ],
      "source": [
        "data.duplicated().sum()"
      ]
    },
    {
      "cell_type": "code",
      "execution_count": null,
      "id": "8575fe05",
      "metadata": {
        "deletable": false,
        "id": "8575fe05"
      },
      "outputs": [],
      "source": [
        "data = data.drop_duplicates()"
      ]
    },
    {
      "cell_type": "markdown",
      "id": "9771a76c",
      "metadata": {
        "deletable": false,
        "id": "9771a76c"
      },
      "source": [
        " Обработайте неявные дубликаты в столбце `education`. В этом столбце есть одни и те же значения, но записанные по-разному: с использованием заглавных и строчных букв. Приведите их к нижнему регистру. Проверьте остальные столбцы."
      ]
    },
    {
      "cell_type": "code",
      "execution_count": null,
      "id": "a9f8e2bf",
      "metadata": {
        "deletable": false,
        "id": "a9f8e2bf"
      },
      "outputs": [],
      "source": [
        "data['education'] = data['education'].str.lower()"
      ]
    },
    {
      "cell_type": "markdown",
      "id": "9904cf55",
      "metadata": {
        "deletable": false,
        "id": "9904cf55"
      },
      "source": [
        "### Категоризация данных"
      ]
    },
    {
      "cell_type": "markdown",
      "id": "72fcc8a2",
      "metadata": {
        "deletable": false,
        "id": "72fcc8a2"
      },
      "source": [
        "Задание 16. На основании диапазонов, указанных ниже, создайте в датафрейме `data` столбец `total_income_category` с категориями:\n",
        "\n",
        "- 0–30000 — `'E'`;\n",
        "- 30001–50000 — `'D'`;\n",
        "- 50001–200000 — `'C'`;\n",
        "- 200001–1000000 — `'B'`;\n",
        "- 1000001 и выше — `'A'`.\n",
        "\n",
        "\n",
        "Например, кредитополучателю с доходом 25000 нужно назначить категорию `'E'`, а клиенту, получающему 235000, — `'B'`. Используйте собственную функцию с именем `categorize_income()` и метод `apply()`."
      ]
    },
    {
      "cell_type": "code",
      "execution_count": null,
      "id": "e1771346",
      "metadata": {
        "deletable": false,
        "id": "e1771346"
      },
      "outputs": [],
      "source": [
        "def categorize_income(income):\n",
        "    try:\n",
        "        if 0 <= income <= 30000:\n",
        "            return 'E'\n",
        "        elif 30001 <= income <= 50000:\n",
        "            return 'D'\n",
        "        elif 50001 <= income <= 200000:\n",
        "            return 'C'\n",
        "        elif 200001 <= income <= 1000000:\n",
        "            return 'B'\n",
        "        elif income >= 1000001:\n",
        "            return 'A'\n",
        "    except:\n",
        "        pass"
      ]
    },
    {
      "cell_type": "code",
      "execution_count": null,
      "id": "d5f3586d",
      "metadata": {
        "deletable": false,
        "id": "d5f3586d"
      },
      "outputs": [],
      "source": [
        "data['total_income_category'] = data['total_income'].apply(categorize_income)"
      ]
    },
    {
      "cell_type": "markdown",
      "id": "dde49b5c",
      "metadata": {
        "deletable": false,
        "id": "dde49b5c"
      },
      "source": [
        " Выведите на экран перечень уникальных целей взятия кредита из столбца `purpose`."
      ]
    },
    {
      "cell_type": "code",
      "execution_count": null,
      "id": "f67ce9b3",
      "metadata": {
        "deletable": false,
        "id": "f67ce9b3",
        "outputId": "673c12d9-7d7e-4ae0-9812-c622c89dd244"
      },
      "outputs": [
        {
          "data": {
            "text/plain": [
              "array(['покупка жилья', 'приобретение автомобиля',\n",
              "       'дополнительное образование', 'сыграть свадьбу',\n",
              "       'операции с жильем', 'образование', 'на проведение свадьбы',\n",
              "       'покупка жилья для семьи', 'покупка недвижимости',\n",
              "       'покупка коммерческой недвижимости', 'покупка жилой недвижимости',\n",
              "       'строительство собственной недвижимости', 'недвижимость',\n",
              "       'строительство недвижимости', 'на покупку подержанного автомобиля',\n",
              "       'на покупку своего автомобиля',\n",
              "       'операции с коммерческой недвижимостью',\n",
              "       'строительство жилой недвижимости', 'жилье',\n",
              "       'операции со своей недвижимостью', 'автомобили',\n",
              "       'заняться образованием', 'сделка с подержанным автомобилем',\n",
              "       'получение образования', 'автомобиль', 'свадьба',\n",
              "       'получение дополнительного образования', 'покупка своего жилья',\n",
              "       'операции с недвижимостью', 'получение высшего образования',\n",
              "       'свой автомобиль', 'сделка с автомобилем',\n",
              "       'профильное образование', 'высшее образование',\n",
              "       'покупка жилья для сдачи', 'на покупку автомобиля', 'ремонт жилью',\n",
              "       'заняться высшим образованием'], dtype=object)"
            ]
          },
          "execution_count": 19,
          "metadata": {},
          "output_type": "execute_result"
        }
      ],
      "source": [
        "data['purpose'].unique()"
      ]
    },
    {
      "cell_type": "markdown",
      "id": "85d0aef0",
      "metadata": {
        "deletable": false,
        "id": "85d0aef0"
      },
      "source": [
        " Создайте функцию, которая на основании данных из столбца `purpose` сформирует новый столбец `purpose_category`, в который войдут следующие категории:\n",
        "\n",
        "- `'операции с автомобилем'`,\n",
        "- `'операции с недвижимостью'`,\n",
        "- `'проведение свадьбы'`,\n",
        "- `'получение образования'`.\n",
        "\n",
        "Например, если в столбце `purpose` находится подстрока `'на покупку автомобиля'`, то в столбце `purpose_category` должна появиться строка `'операции с автомобилем'`.\n",
        "\n",
        "Используйте собственную функцию с именем `categorize_purpose()` и метод `apply()`. Изучите данные в столбце `purpose` и определите, какие подстроки помогут вам правильно определить категорию."
      ]
    },
    {
      "cell_type": "code",
      "execution_count": null,
      "id": "e149fab4",
      "metadata": {
        "deletable": false,
        "id": "e149fab4"
      },
      "outputs": [],
      "source": [
        "def categorize_purpose(row):\n",
        "    try:\n",
        "        if 'автом' in row:\n",
        "            return 'операции с автомобилем'\n",
        "        elif 'жил' in row or 'недвиж' in row:\n",
        "            return 'операции с недвижимостью'\n",
        "        elif 'свад' in row:\n",
        "            return 'проведение свадьбы'\n",
        "        elif 'образов' in row:\n",
        "            return 'получение образования'\n",
        "    except:\n",
        "        return 'нет категории'"
      ]
    },
    {
      "cell_type": "code",
      "execution_count": null,
      "id": "bf36e69b",
      "metadata": {
        "deletable": false,
        "id": "bf36e69b"
      },
      "outputs": [],
      "source": [
        "data['purpose_category'] = data['purpose'].apply(categorize_purpose)"
      ]
    },
    {
      "cell_type": "markdown",
      "id": "09b242bf",
      "metadata": {
        "deletable": false,
        "editable": false,
        "id": "09b242bf"
      },
      "source": [
        "## Исследуйте данные и ответьте на вопросы"
      ]
    },
    {
      "cell_type": "markdown",
      "id": "c5d66278",
      "metadata": {
        "deletable": false,
        "editable": false,
        "id": "c5d66278"
      },
      "source": [
        " Есть ли зависимость между количеством детей и возвратом кредита в срок?"
      ]
    },
    {
      "cell_type": "code",
      "execution_count": null,
      "id": "2cacfc4a",
      "metadata": {
        "id": "2cacfc4a",
        "outputId": "693f27e8-197b-4724-e5e0-b0eeb3f93ad6"
      },
      "outputs": [
        {
          "data": {
            "text/plain": [
              "0    19616\n",
              "1     1732\n",
              "Name: debt, dtype: int64"
            ]
          },
          "execution_count": 22,
          "metadata": {},
          "output_type": "execute_result"
        }
      ],
      "source": [
        "data['debt'].value_counts() #количество людей по категориям вернувшие и не вернувшие кредит"
      ]
    },
    {
      "cell_type": "code",
      "execution_count": null,
      "id": "485c8f3c",
      "metadata": {
        "id": "485c8f3c",
        "outputId": "20c3919f-21de-42ca-888b-4233a3c7a5d8"
      },
      "outputs": [
        {
          "data": {
            "text/plain": [
              "8.113172194116546"
            ]
          },
          "execution_count": 23,
          "metadata": {},
          "output_type": "execute_result"
        }
      ],
      "source": [
        "1732/(19616+1732)*100 #общий процент невозвратов по всему датафрейму."
      ]
    },
    {
      "cell_type": "code",
      "execution_count": null,
      "id": "58436f6c",
      "metadata": {
        "id": "58436f6c",
        "outputId": "872c22eb-8e1f-4d98-ef5b-c1655170485e"
      },
      "outputs": [
        {
          "data": {
            "text/plain": [
              "'8.11%'"
            ]
          },
          "execution_count": 24,
          "metadata": {},
          "output_type": "execute_result"
        }
      ],
      "source": [
        "f\"{data['debt'].mean():.2%}\""
      ]
    },
    {
      "cell_type": "markdown",
      "id": "64f86106",
      "metadata": {
        "id": "64f86106"
      },
      "source": [
        "**Функция:**"
      ]
    },
    {
      "cell_type": "code",
      "execution_count": null,
      "id": "e83f3245",
      "metadata": {
        "id": "e83f3245"
      },
      "outputs": [],
      "source": [
        "def func (abc):\n",
        "    data_pivot = data.pivot_table(index = abc, values = 'debt', aggfunc = ['count','sum','mean'])\n",
        "    data_pivot.columns = ['Всего кредитополучателей', 'Всего должников', 'Доля должников']\n",
        "    data_pivot['Доля должников'] = data_pivot['Доля должников']\n",
        "    return data_pivot "
      ]
    },
    {
      "cell_type": "code",
      "execution_count": null,
      "id": "9be72bb3",
      "metadata": {
        "id": "9be72bb3",
        "outputId": "35ad7720-adaa-4b02-9b44-60ae75745873"
      },
      "outputs": [
        {
          "data": {
            "text/html": [
              "<div>\n",
              "<style scoped>\n",
              "    .dataframe tbody tr th:only-of-type {\n",
              "        vertical-align: middle;\n",
              "    }\n",
              "\n",
              "    .dataframe tbody tr th {\n",
              "        vertical-align: top;\n",
              "    }\n",
              "\n",
              "    .dataframe thead th {\n",
              "        text-align: right;\n",
              "    }\n",
              "</style>\n",
              "<table border=\"1\" class=\"dataframe\">\n",
              "  <thead>\n",
              "    <tr style=\"text-align: right;\">\n",
              "      <th></th>\n",
              "      <th>Всего кредитополучателей</th>\n",
              "      <th>Всего должников</th>\n",
              "      <th>Доля должников</th>\n",
              "    </tr>\n",
              "    <tr>\n",
              "      <th>children</th>\n",
              "      <th></th>\n",
              "      <th></th>\n",
              "      <th></th>\n",
              "    </tr>\n",
              "  </thead>\n",
              "  <tbody>\n",
              "    <tr>\n",
              "      <th>0</th>\n",
              "      <td>14107</td>\n",
              "      <td>1063</td>\n",
              "      <td>0.075353</td>\n",
              "    </tr>\n",
              "    <tr>\n",
              "      <th>1</th>\n",
              "      <td>4809</td>\n",
              "      <td>444</td>\n",
              "      <td>0.092327</td>\n",
              "    </tr>\n",
              "    <tr>\n",
              "      <th>2</th>\n",
              "      <td>2052</td>\n",
              "      <td>194</td>\n",
              "      <td>0.094542</td>\n",
              "    </tr>\n",
              "    <tr>\n",
              "      <th>3</th>\n",
              "      <td>330</td>\n",
              "      <td>27</td>\n",
              "      <td>0.081818</td>\n",
              "    </tr>\n",
              "    <tr>\n",
              "      <th>4</th>\n",
              "      <td>41</td>\n",
              "      <td>4</td>\n",
              "      <td>0.097561</td>\n",
              "    </tr>\n",
              "    <tr>\n",
              "      <th>5</th>\n",
              "      <td>9</td>\n",
              "      <td>0</td>\n",
              "      <td>0.000000</td>\n",
              "    </tr>\n",
              "  </tbody>\n",
              "</table>\n",
              "</div>"
            ],
            "text/plain": [
              "          Всего кредитополучателей  Всего должников  Доля должников\n",
              "children                                                           \n",
              "0                            14107             1063        0.075353\n",
              "1                             4809              444        0.092327\n",
              "2                             2052              194        0.094542\n",
              "3                              330               27        0.081818\n",
              "4                               41                4        0.097561\n",
              "5                                9                0        0.000000"
            ]
          },
          "execution_count": 66,
          "metadata": {},
          "output_type": "execute_result"
        }
      ],
      "source": [
        "func('children') "
      ]
    },
    {
      "cell_type": "code",
      "execution_count": null,
      "id": "f6390d70",
      "metadata": {
        "id": "f6390d70",
        "outputId": "ce7e0d9f-c940-4164-ad07-37c16ac72df1"
      },
      "outputs": [
        {
          "data": {
            "text/plain": [
              "children\n",
              "0    1063\n",
              "1     444\n",
              "2     194\n",
              "3      27\n",
              "4       4\n",
              "5       0\n",
              "Name: debt, dtype: int64"
            ]
          },
          "execution_count": 27,
          "metadata": {},
          "output_type": "execute_result"
        }
      ],
      "source": [
        "x = data.groupby('children')['debt'].sum() #Количество невозвратов по количеству детей.\n",
        "x"
      ]
    },
    {
      "cell_type": "code",
      "execution_count": null,
      "id": "01258419",
      "metadata": {
        "id": "01258419",
        "outputId": "787c0205-8c7b-46bf-87d4-713e471c626c"
      },
      "outputs": [
        {
          "data": {
            "text/plain": [
              "children\n",
              "0    14107\n",
              "1     4809\n",
              "2     2052\n",
              "3      330\n",
              "4       41\n",
              "5        9\n",
              "Name: children, dtype: int64"
            ]
          },
          "execution_count": 28,
          "metadata": {},
          "output_type": "execute_result"
        }
      ],
      "source": [
        "y = data.groupby('children')['children'].count() #Количество клиентов по количеству детей.\n",
        "y"
      ]
    },
    {
      "cell_type": "code",
      "execution_count": null,
      "id": "6f36ba5c",
      "metadata": {
        "id": "6f36ba5c",
        "outputId": "bfce9b1a-72e9-45fd-e36e-4935e1046387"
      },
      "outputs": [
        {
          "data": {
            "text/plain": [
              "children\n",
              "0    7.535266\n",
              "1    9.232689\n",
              "2    9.454191\n",
              "3    8.181818\n",
              "4    9.756098\n",
              "5    0.000000\n",
              "dtype: float64"
            ]
          },
          "execution_count": 29,
          "metadata": {},
          "output_type": "execute_result"
        }
      ],
      "source": [
        "z = x/y*100 #Процентное соотношение количества невозвратов от общего кочичества.\n",
        "z"
      ]
    },
    {
      "cell_type": "markdown",
      "id": "3a6b99ec",
      "metadata": {
        "deletable": false,
        "id": "3a6b99ec"
      },
      "source": [
        "**Вывод:** Количество детей у клиентов влияет на возврат кредита незначительно, в пределах 2% от общего(Можно ли назвать 2% незначительным отклонением?). **Клиенты без детей чаще отдают кредиты в срок.** В случае, когда у клиентов 5 детей, возврат кредитов стопроцентный, но так как таких клиентов всего 9 человек, то эта выборка не репрезентативна. Можно отметить, что кредитополучатели без детей являются более ответственными, чем клиенты у которых есть дети."
      ]
    },
    {
      "cell_type": "markdown",
      "id": "97be82ca",
      "metadata": {
        "deletable": false,
        "editable": false,
        "id": "97be82ca"
      },
      "source": [
        " Есть ли зависимость между семейным положением и возвратом кредита в срок?"
      ]
    },
    {
      "cell_type": "code",
      "execution_count": null,
      "id": "bebf55e9",
      "metadata": {
        "id": "bebf55e9",
        "outputId": "b5b1d0de-be62-4ae0-c07e-caf0d92f0aad"
      },
      "outputs": [
        {
          "data": {
            "text/html": [
              "<div>\n",
              "<style scoped>\n",
              "    .dataframe tbody tr th:only-of-type {\n",
              "        vertical-align: middle;\n",
              "    }\n",
              "\n",
              "    .dataframe tbody tr th {\n",
              "        vertical-align: top;\n",
              "    }\n",
              "\n",
              "    .dataframe thead tr th {\n",
              "        text-align: left;\n",
              "    }\n",
              "\n",
              "    .dataframe thead tr:last-of-type th {\n",
              "        text-align: right;\n",
              "    }\n",
              "</style>\n",
              "<table border=\"1\" class=\"dataframe\">\n",
              "  <thead>\n",
              "    <tr>\n",
              "      <th></th>\n",
              "      <th>count</th>\n",
              "      <th>sum</th>\n",
              "      <th>mean</th>\n",
              "    </tr>\n",
              "    <tr>\n",
              "      <th></th>\n",
              "      <th>debt</th>\n",
              "      <th>debt</th>\n",
              "      <th>debt</th>\n",
              "    </tr>\n",
              "    <tr>\n",
              "      <th>family_status</th>\n",
              "      <th></th>\n",
              "      <th></th>\n",
              "      <th></th>\n",
              "    </tr>\n",
              "  </thead>\n",
              "  <tbody>\n",
              "    <tr>\n",
              "      <th>Не женат / не замужем</th>\n",
              "      <td>2796</td>\n",
              "      <td>273</td>\n",
              "      <td>0.097639</td>\n",
              "    </tr>\n",
              "    <tr>\n",
              "      <th>в разводе</th>\n",
              "      <td>1189</td>\n",
              "      <td>84</td>\n",
              "      <td>0.070648</td>\n",
              "    </tr>\n",
              "    <tr>\n",
              "      <th>вдовец / вдова</th>\n",
              "      <td>951</td>\n",
              "      <td>63</td>\n",
              "      <td>0.066246</td>\n",
              "    </tr>\n",
              "    <tr>\n",
              "      <th>гражданский брак</th>\n",
              "      <td>4146</td>\n",
              "      <td>385</td>\n",
              "      <td>0.092861</td>\n",
              "    </tr>\n",
              "    <tr>\n",
              "      <th>женат / замужем</th>\n",
              "      <td>12266</td>\n",
              "      <td>927</td>\n",
              "      <td>0.075575</td>\n",
              "    </tr>\n",
              "  </tbody>\n",
              "</table>\n",
              "</div>"
            ],
            "text/plain": [
              "                       count  sum      mean\n",
              "                        debt debt      debt\n",
              "family_status                              \n",
              "Не женат / не замужем   2796  273  0.097639\n",
              "в разводе               1189   84  0.070648\n",
              "вдовец / вдова           951   63  0.066246\n",
              "гражданский брак        4146  385  0.092861\n",
              "женат / замужем        12266  927  0.075575"
            ]
          },
          "execution_count": 30,
          "metadata": {},
          "output_type": "execute_result"
        }
      ],
      "source": [
        "func('family_status')"
      ]
    },
    {
      "cell_type": "code",
      "execution_count": null,
      "id": "dc3f7ee8",
      "metadata": {
        "id": "dc3f7ee8",
        "outputId": "113e8be8-bded-4fb6-ad76-4366da6ac926"
      },
      "outputs": [
        {
          "data": {
            "text/plain": [
              "family_status\n",
              "Не женат / не замужем    273\n",
              "в разводе                 84\n",
              "вдовец / вдова            63\n",
              "гражданский брак         385\n",
              "женат / замужем          927\n",
              "Name: debt, dtype: int64"
            ]
          },
          "execution_count": 31,
          "metadata": {},
          "output_type": "execute_result"
        }
      ],
      "source": [
        "x = data.groupby('family_status')['debt'].sum() #Количество  невозвратов по семейному статусу. \n",
        "x"
      ]
    },
    {
      "cell_type": "code",
      "execution_count": null,
      "id": "66018d70",
      "metadata": {
        "id": "66018d70",
        "outputId": "6dcf26eb-8138-414b-c2c6-7d407b8ee414"
      },
      "outputs": [
        {
          "data": {
            "text/plain": [
              "family_status\n",
              "Не женат / не замужем     2796\n",
              "в разводе                 1189\n",
              "вдовец / вдова             951\n",
              "гражданский брак          4146\n",
              "женат / замужем          12266\n",
              "Name: family_status, dtype: int64"
            ]
          },
          "execution_count": 32,
          "metadata": {},
          "output_type": "execute_result"
        }
      ],
      "source": [
        "y = data.groupby('family_status')['family_status'].count() #Количество клиентов по семейному статусу.\n",
        "y"
      ]
    },
    {
      "cell_type": "code",
      "execution_count": null,
      "id": "f29c9315",
      "metadata": {
        "id": "f29c9315",
        "outputId": "dc1bb57c-915a-4636-f8c0-9897b81e983a"
      },
      "outputs": [
        {
          "data": {
            "text/plain": [
              "family_status\n",
              "Не женат / не замужем    9.763948\n",
              "в разводе                7.064760\n",
              "вдовец / вдова           6.624606\n",
              "гражданский брак         9.286059\n",
              "женат / замужем          7.557476\n",
              "dtype: float64"
            ]
          },
          "execution_count": 33,
          "metadata": {},
          "output_type": "execute_result"
        }
      ],
      "source": [
        "z = x/y*100 #Процентное соотношение количества невозвратов от общего количества.\n",
        "z"
      ]
    },
    {
      "cell_type": "markdown",
      "id": "1cef7837",
      "metadata": {
        "deletable": false,
        "id": "1cef7837"
      },
      "source": [
        "**Вывод:** Семейный статус клиентов влияет на возвратность кредитов так же незначительно. Вдовцы и вдовы чаще отдают кредиты без задержек, а проживающие в гражданском браке и не женатые/не замужние чаще имеют просрочку. Но отклонение от общего процента невозвратов, так же не более 2%."
      ]
    },
    {
      "cell_type": "markdown",
      "id": "1e8b2fca",
      "metadata": {
        "deletable": false,
        "editable": false,
        "id": "1e8b2fca"
      },
      "source": [
        " Есть ли зависимость между уровнем дохода и возвратом кредита в срок."
      ]
    },
    {
      "cell_type": "code",
      "execution_count": null,
      "id": "eb2a6835",
      "metadata": {
        "id": "eb2a6835",
        "outputId": "00cfbe41-ffb3-403c-8e5e-3f663b508aab"
      },
      "outputs": [
        {
          "data": {
            "text/html": [
              "<div>\n",
              "<style scoped>\n",
              "    .dataframe tbody tr th:only-of-type {\n",
              "        vertical-align: middle;\n",
              "    }\n",
              "\n",
              "    .dataframe tbody tr th {\n",
              "        vertical-align: top;\n",
              "    }\n",
              "\n",
              "    .dataframe thead tr th {\n",
              "        text-align: left;\n",
              "    }\n",
              "\n",
              "    .dataframe thead tr:last-of-type th {\n",
              "        text-align: right;\n",
              "    }\n",
              "</style>\n",
              "<table border=\"1\" class=\"dataframe\">\n",
              "  <thead>\n",
              "    <tr>\n",
              "      <th></th>\n",
              "      <th>count</th>\n",
              "      <th>sum</th>\n",
              "      <th>mean</th>\n",
              "    </tr>\n",
              "    <tr>\n",
              "      <th></th>\n",
              "      <th>debt</th>\n",
              "      <th>debt</th>\n",
              "      <th>debt</th>\n",
              "    </tr>\n",
              "    <tr>\n",
              "      <th>total_income_category</th>\n",
              "      <th></th>\n",
              "      <th></th>\n",
              "      <th></th>\n",
              "    </tr>\n",
              "  </thead>\n",
              "  <tbody>\n",
              "    <tr>\n",
              "      <th>A</th>\n",
              "      <td>25</td>\n",
              "      <td>2</td>\n",
              "      <td>0.080000</td>\n",
              "    </tr>\n",
              "    <tr>\n",
              "      <th>B</th>\n",
              "      <td>5014</td>\n",
              "      <td>354</td>\n",
              "      <td>0.070602</td>\n",
              "    </tr>\n",
              "    <tr>\n",
              "      <th>C</th>\n",
              "      <td>15938</td>\n",
              "      <td>1353</td>\n",
              "      <td>0.084891</td>\n",
              "    </tr>\n",
              "    <tr>\n",
              "      <th>D</th>\n",
              "      <td>349</td>\n",
              "      <td>21</td>\n",
              "      <td>0.060172</td>\n",
              "    </tr>\n",
              "    <tr>\n",
              "      <th>E</th>\n",
              "      <td>22</td>\n",
              "      <td>2</td>\n",
              "      <td>0.090909</td>\n",
              "    </tr>\n",
              "  </tbody>\n",
              "</table>\n",
              "</div>"
            ],
            "text/plain": [
              "                       count   sum      mean\n",
              "                        debt  debt      debt\n",
              "total_income_category                       \n",
              "A                         25     2  0.080000\n",
              "B                       5014   354  0.070602\n",
              "C                      15938  1353  0.084891\n",
              "D                        349    21  0.060172\n",
              "E                         22     2  0.090909"
            ]
          },
          "execution_count": 34,
          "metadata": {},
          "output_type": "execute_result"
        }
      ],
      "source": [
        "func('total_income_category')"
      ]
    },
    {
      "cell_type": "code",
      "execution_count": null,
      "id": "cd7e3720",
      "metadata": {
        "id": "cd7e3720",
        "outputId": "8c106ca9-c874-44a3-ec17-84d69c93b97d"
      },
      "outputs": [
        {
          "data": {
            "text/plain": [
              "total_income_category\n",
              "A       2\n",
              "B     354\n",
              "C    1353\n",
              "D      21\n",
              "E       2\n",
              "Name: debt, dtype: int64"
            ]
          },
          "execution_count": 35,
          "metadata": {},
          "output_type": "execute_result"
        }
      ],
      "source": [
        "x = data.groupby('total_income_category')['debt'].sum() #Количество  невозвратов по уровню дохода.\n",
        "x"
      ]
    },
    {
      "cell_type": "code",
      "execution_count": null,
      "id": "706f48a9",
      "metadata": {
        "id": "706f48a9",
        "outputId": "13b4c8a4-5dfb-4239-9077-ca86f75a985c"
      },
      "outputs": [
        {
          "data": {
            "text/plain": [
              "total_income_category\n",
              "A       25\n",
              "B     5014\n",
              "C    15938\n",
              "D      349\n",
              "E       22\n",
              "Name: total_income_category, dtype: int64"
            ]
          },
          "execution_count": 36,
          "metadata": {},
          "output_type": "execute_result"
        }
      ],
      "source": [
        "y = data.groupby('total_income_category')['total_income_category'].count() #Количество  клиентов, имеющих определенный уровень дохода.\n",
        "y"
      ]
    },
    {
      "cell_type": "code",
      "execution_count": null,
      "id": "080665dc",
      "metadata": {
        "id": "080665dc",
        "outputId": "a3dd33dc-32e1-47c4-d9f4-0b92a10e18ee"
      },
      "outputs": [
        {
          "data": {
            "text/plain": [
              "total_income_category\n",
              "A    8.000000\n",
              "B    7.060231\n",
              "C    8.489145\n",
              "D    6.017192\n",
              "E    9.090909\n",
              "dtype: float64"
            ]
          },
          "execution_count": 37,
          "metadata": {},
          "output_type": "execute_result"
        }
      ],
      "source": [
        "z = x/y*100 #Процентное соотношение невозвратов от общего количества клиентов по категориям дохода.\n",
        "z"
      ]
    },
    {
      "cell_type": "markdown",
      "id": "e8593def",
      "metadata": {
        "deletable": false,
        "id": "e8593def"
      },
      "source": [
        "**Вывод:** Клиенты имеющие доход от 30001 до 50000 чаще других отдают кредиты в срок. Клиенты с доходом до 30000 чаще не возвращают кредиты в срок. Зависимости между уровнем дохода и возвратом кредита в срок не установлено, отклонение от общего процента невозвратов, так же около 2%(в случае с категорией В 2,1%)"
      ]
    },
    {
      "cell_type": "markdown",
      "id": "99ecbd1f",
      "metadata": {
        "deletable": false,
        "editable": false,
        "id": "99ecbd1f"
      },
      "source": [
        " Как разные цели кредита влияют на его возврат в срок?"
      ]
    },
    {
      "cell_type": "code",
      "execution_count": null,
      "id": "ad08a2de",
      "metadata": {
        "id": "ad08a2de",
        "outputId": "5a1c9a2f-b531-4534-ff1e-c28cf28e16c4"
      },
      "outputs": [
        {
          "data": {
            "text/html": [
              "<div>\n",
              "<style scoped>\n",
              "    .dataframe tbody tr th:only-of-type {\n",
              "        vertical-align: middle;\n",
              "    }\n",
              "\n",
              "    .dataframe tbody tr th {\n",
              "        vertical-align: top;\n",
              "    }\n",
              "\n",
              "    .dataframe thead tr th {\n",
              "        text-align: left;\n",
              "    }\n",
              "\n",
              "    .dataframe thead tr:last-of-type th {\n",
              "        text-align: right;\n",
              "    }\n",
              "</style>\n",
              "<table border=\"1\" class=\"dataframe\">\n",
              "  <thead>\n",
              "    <tr>\n",
              "      <th></th>\n",
              "      <th>count</th>\n",
              "      <th>sum</th>\n",
              "      <th>mean</th>\n",
              "    </tr>\n",
              "    <tr>\n",
              "      <th></th>\n",
              "      <th>debt</th>\n",
              "      <th>debt</th>\n",
              "      <th>debt</th>\n",
              "    </tr>\n",
              "    <tr>\n",
              "      <th>purpose_category</th>\n",
              "      <th></th>\n",
              "      <th></th>\n",
              "      <th></th>\n",
              "    </tr>\n",
              "  </thead>\n",
              "  <tbody>\n",
              "    <tr>\n",
              "      <th>операции с автомобилем</th>\n",
              "      <td>4281</td>\n",
              "      <td>400</td>\n",
              "      <td>0.093436</td>\n",
              "    </tr>\n",
              "    <tr>\n",
              "      <th>операции с недвижимостью</th>\n",
              "      <td>10754</td>\n",
              "      <td>780</td>\n",
              "      <td>0.072531</td>\n",
              "    </tr>\n",
              "    <tr>\n",
              "      <th>получение образования</th>\n",
              "      <td>3989</td>\n",
              "      <td>369</td>\n",
              "      <td>0.092504</td>\n",
              "    </tr>\n",
              "    <tr>\n",
              "      <th>проведение свадьбы</th>\n",
              "      <td>2324</td>\n",
              "      <td>183</td>\n",
              "      <td>0.078744</td>\n",
              "    </tr>\n",
              "  </tbody>\n",
              "</table>\n",
              "</div>"
            ],
            "text/plain": [
              "                          count  sum      mean\n",
              "                           debt debt      debt\n",
              "purpose_category                              \n",
              "операции с автомобилем     4281  400  0.093436\n",
              "операции с недвижимостью  10754  780  0.072531\n",
              "получение образования      3989  369  0.092504\n",
              "проведение свадьбы         2324  183  0.078744"
            ]
          },
          "execution_count": 38,
          "metadata": {},
          "output_type": "execute_result"
        }
      ],
      "source": [
        "func('purpose_category')"
      ]
    },
    {
      "cell_type": "code",
      "execution_count": null,
      "id": "2b687290",
      "metadata": {
        "id": "2b687290",
        "outputId": "ec024fa4-1bde-4995-dfd9-48003fa2a7a9"
      },
      "outputs": [
        {
          "data": {
            "text/plain": [
              "purpose_category\n",
              "операции с автомобилем      400\n",
              "операции с недвижимостью    780\n",
              "получение образования       369\n",
              "проведение свадьбы          183\n",
              "Name: debt, dtype: int64"
            ]
          },
          "execution_count": 39,
          "metadata": {},
          "output_type": "execute_result"
        }
      ],
      "source": [
        "x = data.groupby('purpose_category')['debt'].sum() # Количество невозвратов по целям кредитования.\n",
        "x"
      ]
    },
    {
      "cell_type": "code",
      "execution_count": null,
      "id": "a056bb98",
      "metadata": {
        "id": "a056bb98",
        "outputId": "051b43e4-d14a-49e3-9251-72a0551eb6c6"
      },
      "outputs": [
        {
          "data": {
            "text/plain": [
              "purpose_category\n",
              "операции с автомобилем       4281\n",
              "операции с недвижимостью    10754\n",
              "получение образования        3989\n",
              "проведение свадьбы           2324\n",
              "Name: purpose_category, dtype: int64"
            ]
          },
          "execution_count": 40,
          "metadata": {},
          "output_type": "execute_result"
        }
      ],
      "source": [
        "y = data.groupby('purpose_category')['purpose_category'].count() # Количество клиентов по целям кредитования.\n",
        "y"
      ]
    },
    {
      "cell_type": "code",
      "execution_count": null,
      "id": "c76f5213",
      "metadata": {
        "id": "c76f5213",
        "outputId": "840185b8-e0a4-4a25-c60d-4d7605af5e33"
      },
      "outputs": [
        {
          "data": {
            "text/plain": [
              "purpose_category\n",
              "операции с автомобилем      9.343611\n",
              "операции с недвижимостью    7.253115\n",
              "получение образования       9.250439\n",
              "проведение свадьбы          7.874355\n",
              "dtype: float64"
            ]
          },
          "execution_count": 41,
          "metadata": {},
          "output_type": "execute_result"
        }
      ],
      "source": [
        "z = x/y*100 #Процентное соотношение количества невозвратов от общего количества клиентов.\n",
        "z"
      ]
    },
    {
      "cell_type": "markdown",
      "id": "b4bb2ce6",
      "metadata": {
        "deletable": false,
        "id": "b4bb2ce6"
      },
      "source": [
        "**Вывод:** Клиенты бравшие кредит на операции с недвижимостью и для проведения свадеб чаще отдают кредит в срок, чем клиенты бравшие кредит для операций с автомобилем и для получения образования. Но так как отклонение от общего процента невозвратов незначительно, так же не превышает 2%, то и влияние целей кредитования на его возврат незначительно."
      ]
    },
    {
      "cell_type": "markdown",
      "id": "6db5255a",
      "metadata": {
        "deletable": false,
        "editable": false,
        "id": "6db5255a"
      },
      "source": [
        "## Общий вывод."
      ]
    },
    {
      "cell_type": "markdown",
      "id": "bad65432",
      "metadata": {
        "id": "bad65432"
      },
      "source": [
        "Исследуемые критерии влияют на возвратность кредитов не больше ~2% от общего процента по всему датафрейму, тоесть незначительно. Клиенты без детей чаще отдают кредиты в срок. Вдовцы и вдовы чаще отдают кредиты без задержек, а проживающие в гражданском браке и не женатые/не замужние чаще имеют просрочку. Клиенты имеющие доход от 30001 до 50000 чаще других отдают кредиты в срок. Клиенты с доходом до 30000 чаще не возвращают кредиты в срок. Клиенты бравшие кредит на операции с недвижимостью и для проведения свадеб чаще отдают кредит в срок, чем клиенты бравшие кредит для операций с автомобилем и для получения образования.\n",
        "\n",
        "\"Идеальный\" клиент: Вдова или вдовец, без детей, с доходом от 30001 до 50000. Цель кредита: Недвижимость или свадьба."
      ]
    }
  ],
  "metadata": {
    "ExecuteTimeLog": [
      {
        "duration": 434,
        "start_time": "2022-06-15T15:22:31.894Z"
      },
      {
        "duration": 19,
        "start_time": "2022-06-15T15:22:32.910Z"
      },
      {
        "duration": 12,
        "start_time": "2022-06-15T15:22:35.391Z"
      },
      {
        "duration": 8,
        "start_time": "2022-06-15T15:22:37.478Z"
      },
      {
        "duration": 28,
        "start_time": "2022-06-15T15:22:39.756Z"
      },
      {
        "duration": 28,
        "start_time": "2022-06-15T15:23:27.485Z"
      },
      {
        "duration": 3,
        "start_time": "2022-06-15T15:23:29.782Z"
      },
      {
        "duration": 6,
        "start_time": "2022-06-15T15:23:31.469Z"
      },
      {
        "duration": 4,
        "start_time": "2022-06-15T15:23:33.611Z"
      },
      {
        "duration": 18,
        "start_time": "2022-06-15T15:23:34.750Z"
      },
      {
        "duration": 5,
        "start_time": "2022-06-15T15:23:35.645Z"
      },
      {
        "duration": 28,
        "start_time": "2022-06-15T15:23:37.700Z"
      },
      {
        "duration": 8,
        "start_time": "2022-06-15T15:23:41.448Z"
      },
      {
        "duration": 4,
        "start_time": "2022-06-15T15:23:43.979Z"
      },
      {
        "duration": 16,
        "start_time": "2022-06-15T15:23:50.722Z"
      },
      {
        "duration": 16,
        "start_time": "2022-06-15T15:23:52.548Z"
      },
      {
        "duration": 10,
        "start_time": "2022-06-15T15:23:55.733Z"
      },
      {
        "duration": 10,
        "start_time": "2022-06-15T15:23:59.149Z"
      },
      {
        "duration": 3,
        "start_time": "2022-06-15T15:24:06.209Z"
      },
      {
        "duration": 9,
        "start_time": "2022-06-15T15:24:08.748Z"
      },
      {
        "duration": 6,
        "start_time": "2022-06-15T15:24:10.989Z"
      },
      {
        "duration": 3,
        "start_time": "2022-06-15T15:24:13.617Z"
      },
      {
        "duration": 8,
        "start_time": "2022-06-15T15:24:18.041Z"
      },
      {
        "duration": 12,
        "start_time": "2022-06-15T15:25:07.777Z"
      },
      {
        "duration": 5,
        "start_time": "2022-06-15T15:26:50.651Z"
      },
      {
        "duration": 4,
        "start_time": "2022-06-15T15:26:55.610Z"
      },
      {
        "duration": 4,
        "start_time": "2022-06-15T15:28:27.985Z"
      },
      {
        "duration": 5,
        "start_time": "2022-06-15T15:28:38.742Z"
      },
      {
        "duration": 5,
        "start_time": "2022-06-15T15:28:57.785Z"
      },
      {
        "duration": 14,
        "start_time": "2022-06-15T15:32:17.087Z"
      },
      {
        "duration": 4,
        "start_time": "2022-06-15T15:34:02.989Z"
      },
      {
        "duration": 6,
        "start_time": "2022-06-15T15:34:13.445Z"
      },
      {
        "duration": 4,
        "start_time": "2022-06-15T15:35:45.268Z"
      },
      {
        "duration": 4,
        "start_time": "2022-06-15T15:35:53.708Z"
      },
      {
        "duration": 7,
        "start_time": "2022-06-15T15:36:04.950Z"
      },
      {
        "duration": 5,
        "start_time": "2022-06-15T15:36:43.036Z"
      },
      {
        "duration": 4,
        "start_time": "2022-06-15T15:39:29.312Z"
      },
      {
        "duration": 6,
        "start_time": "2022-06-15T18:57:51.749Z"
      },
      {
        "duration": 5,
        "start_time": "2022-06-15T18:57:54.376Z"
      },
      {
        "duration": 4,
        "start_time": "2022-06-15T18:57:56.336Z"
      },
      {
        "duration": 5,
        "start_time": "2022-06-15T18:58:26.065Z"
      },
      {
        "duration": 5,
        "start_time": "2022-06-15T18:58:30.255Z"
      },
      {
        "duration": 5,
        "start_time": "2022-06-15T19:00:14.784Z"
      },
      {
        "duration": 7,
        "start_time": "2022-06-15T19:00:18.807Z"
      },
      {
        "duration": 5,
        "start_time": "2022-06-15T19:01:06.254Z"
      },
      {
        "duration": 7,
        "start_time": "2022-06-15T19:01:09.297Z"
      },
      {
        "duration": 4,
        "start_time": "2022-06-15T19:02:03.143Z"
      },
      {
        "duration": 6,
        "start_time": "2022-06-15T19:07:18.203Z"
      },
      {
        "duration": 7,
        "start_time": "2022-06-15T19:07:19.449Z"
      },
      {
        "duration": 5,
        "start_time": "2022-06-15T19:07:22.290Z"
      },
      {
        "duration": 8,
        "start_time": "2022-06-15T19:09:51.398Z"
      },
      {
        "duration": 8,
        "start_time": "2022-06-15T19:09:53.112Z"
      },
      {
        "duration": 5,
        "start_time": "2022-06-15T19:09:54.580Z"
      },
      {
        "duration": 5,
        "start_time": "2022-06-15T19:14:05.847Z"
      },
      {
        "duration": 3,
        "start_time": "2022-06-15T19:17:26.571Z"
      },
      {
        "duration": 4,
        "start_time": "2022-06-15T19:17:32.140Z"
      },
      {
        "duration": 4,
        "start_time": "2022-06-15T21:08:28.751Z"
      },
      {
        "duration": 4,
        "start_time": "2022-06-15T21:08:45.021Z"
      },
      {
        "duration": 45,
        "start_time": "2022-06-16T18:55:54.644Z"
      },
      {
        "duration": 8,
        "start_time": "2022-06-16T18:56:13.064Z"
      },
      {
        "duration": 7,
        "start_time": "2022-06-16T18:56:24.691Z"
      },
      {
        "duration": 7,
        "start_time": "2022-06-16T18:57:07.321Z"
      },
      {
        "duration": 623,
        "start_time": "2022-06-16T18:57:30.809Z"
      },
      {
        "duration": 22,
        "start_time": "2022-06-16T18:57:31.434Z"
      },
      {
        "duration": 17,
        "start_time": "2022-06-16T18:57:31.458Z"
      },
      {
        "duration": 25,
        "start_time": "2022-06-16T18:57:31.477Z"
      },
      {
        "duration": 43,
        "start_time": "2022-06-16T18:57:31.504Z"
      },
      {
        "duration": 3,
        "start_time": "2022-06-16T18:57:31.548Z"
      },
      {
        "duration": 19,
        "start_time": "2022-06-16T18:57:31.553Z"
      },
      {
        "duration": 9,
        "start_time": "2022-06-16T18:57:31.573Z"
      },
      {
        "duration": 12,
        "start_time": "2022-06-16T18:57:31.583Z"
      },
      {
        "duration": 5,
        "start_time": "2022-06-16T18:57:31.599Z"
      },
      {
        "duration": 36,
        "start_time": "2022-06-16T18:57:31.605Z"
      },
      {
        "duration": 18,
        "start_time": "2022-06-16T18:57:31.643Z"
      },
      {
        "duration": 5,
        "start_time": "2022-06-16T18:57:31.662Z"
      },
      {
        "duration": 30,
        "start_time": "2022-06-16T18:57:31.668Z"
      },
      {
        "duration": 16,
        "start_time": "2022-06-16T18:57:31.699Z"
      },
      {
        "duration": 10,
        "start_time": "2022-06-16T18:57:31.717Z"
      },
      {
        "duration": 4,
        "start_time": "2022-06-16T18:57:31.728Z"
      },
      {
        "duration": 30,
        "start_time": "2022-06-16T18:57:31.733Z"
      },
      {
        "duration": 16,
        "start_time": "2022-06-16T18:57:31.765Z"
      },
      {
        "duration": 11,
        "start_time": "2022-06-16T18:57:31.782Z"
      },
      {
        "duration": 14,
        "start_time": "2022-06-16T18:57:31.795Z"
      },
      {
        "duration": 76,
        "start_time": "2022-06-16T18:57:31.811Z"
      },
      {
        "duration": 0,
        "start_time": "2022-06-16T18:57:31.889Z"
      },
      {
        "duration": 0,
        "start_time": "2022-06-16T18:57:31.891Z"
      },
      {
        "duration": 0,
        "start_time": "2022-06-16T18:57:31.892Z"
      },
      {
        "duration": 0,
        "start_time": "2022-06-16T18:57:31.893Z"
      },
      {
        "duration": 0,
        "start_time": "2022-06-16T18:57:31.894Z"
      },
      {
        "duration": 0,
        "start_time": "2022-06-16T18:57:31.896Z"
      },
      {
        "duration": 0,
        "start_time": "2022-06-16T18:57:31.896Z"
      },
      {
        "duration": 0,
        "start_time": "2022-06-16T18:57:31.898Z"
      },
      {
        "duration": 0,
        "start_time": "2022-06-16T18:57:31.899Z"
      },
      {
        "duration": 0,
        "start_time": "2022-06-16T18:57:31.900Z"
      },
      {
        "duration": 0,
        "start_time": "2022-06-16T18:57:31.901Z"
      },
      {
        "duration": 0,
        "start_time": "2022-06-16T18:57:31.903Z"
      },
      {
        "duration": 0,
        "start_time": "2022-06-16T18:57:31.904Z"
      },
      {
        "duration": 0,
        "start_time": "2022-06-16T18:57:31.905Z"
      },
      {
        "duration": 7,
        "start_time": "2022-06-16T18:57:44.410Z"
      },
      {
        "duration": 7,
        "start_time": "2022-06-16T18:57:51.123Z"
      },
      {
        "duration": 5,
        "start_time": "2022-06-16T18:57:52.400Z"
      },
      {
        "duration": 4,
        "start_time": "2022-06-16T18:57:54.441Z"
      },
      {
        "duration": 7,
        "start_time": "2022-06-16T18:57:55.475Z"
      },
      {
        "duration": 7,
        "start_time": "2022-06-16T18:57:57.384Z"
      },
      {
        "duration": 5,
        "start_time": "2022-06-16T18:57:59.166Z"
      },
      {
        "duration": 20,
        "start_time": "2022-06-16T18:58:23.225Z"
      },
      {
        "duration": 7,
        "start_time": "2022-06-16T18:58:31.043Z"
      },
      {
        "duration": 20,
        "start_time": "2022-06-16T19:00:54.223Z"
      },
      {
        "duration": 129,
        "start_time": "2022-06-16T19:01:06.592Z"
      },
      {
        "duration": 13,
        "start_time": "2022-06-16T19:02:21.663Z"
      },
      {
        "duration": 11,
        "start_time": "2022-06-16T19:03:00.543Z"
      },
      {
        "duration": 9,
        "start_time": "2022-06-16T19:03:02.357Z"
      },
      {
        "duration": 11,
        "start_time": "2022-06-16T19:03:09.621Z"
      },
      {
        "duration": 18,
        "start_time": "2022-06-16T19:03:47.501Z"
      },
      {
        "duration": 24,
        "start_time": "2022-06-16T19:04:28.688Z"
      },
      {
        "duration": 25,
        "start_time": "2022-06-16T19:05:29.499Z"
      },
      {
        "duration": 332,
        "start_time": "2022-06-16T19:06:19.060Z"
      },
      {
        "duration": 26,
        "start_time": "2022-06-16T19:07:53.552Z"
      },
      {
        "duration": 23,
        "start_time": "2022-06-16T19:08:52.427Z"
      },
      {
        "duration": 2,
        "start_time": "2022-06-16T19:13:15.588Z"
      },
      {
        "duration": 24,
        "start_time": "2022-06-16T19:13:40.386Z"
      },
      {
        "duration": 7,
        "start_time": "2022-06-16T19:13:56.390Z"
      },
      {
        "duration": 30,
        "start_time": "2022-06-16T19:14:03.480Z"
      },
      {
        "duration": 6,
        "start_time": "2022-06-16T19:14:33.289Z"
      },
      {
        "duration": 26,
        "start_time": "2022-06-16T19:14:42.486Z"
      },
      {
        "duration": 23,
        "start_time": "2022-06-16T19:15:20.159Z"
      },
      {
        "duration": 5,
        "start_time": "2022-06-16T19:16:44.218Z"
      },
      {
        "duration": 11,
        "start_time": "2022-06-16T19:21:46.893Z"
      },
      {
        "duration": 27,
        "start_time": "2022-06-16T19:22:29.900Z"
      },
      {
        "duration": 287,
        "start_time": "2022-06-16T19:22:42.148Z"
      },
      {
        "duration": 292,
        "start_time": "2022-06-16T19:22:58.148Z"
      },
      {
        "duration": 23,
        "start_time": "2022-06-16T19:25:36.986Z"
      },
      {
        "duration": 27,
        "start_time": "2022-06-16T19:26:04.193Z"
      },
      {
        "duration": 26,
        "start_time": "2022-06-16T19:26:35.017Z"
      },
      {
        "duration": 28,
        "start_time": "2022-06-16T19:27:06.553Z"
      },
      {
        "duration": 59,
        "start_time": "2022-06-17T05:19:01.710Z"
      },
      {
        "duration": 794,
        "start_time": "2022-06-17T05:19:05.201Z"
      },
      {
        "duration": 28,
        "start_time": "2022-06-17T05:19:05.997Z"
      },
      {
        "duration": 24,
        "start_time": "2022-06-17T05:19:06.027Z"
      },
      {
        "duration": 49,
        "start_time": "2022-06-17T05:19:06.054Z"
      },
      {
        "duration": 60,
        "start_time": "2022-06-17T05:19:06.104Z"
      },
      {
        "duration": 24,
        "start_time": "2022-06-17T05:19:06.166Z"
      },
      {
        "duration": 96,
        "start_time": "2022-06-17T05:19:06.192Z"
      },
      {
        "duration": 22,
        "start_time": "2022-06-17T05:19:06.291Z"
      },
      {
        "duration": 56,
        "start_time": "2022-06-17T05:19:06.315Z"
      },
      {
        "duration": 22,
        "start_time": "2022-06-17T05:19:06.378Z"
      },
      {
        "duration": 112,
        "start_time": "2022-06-17T05:19:06.402Z"
      },
      {
        "duration": 19,
        "start_time": "2022-06-17T05:19:06.516Z"
      },
      {
        "duration": 84,
        "start_time": "2022-06-17T05:19:06.537Z"
      },
      {
        "duration": 130,
        "start_time": "2022-06-17T05:19:06.623Z"
      },
      {
        "duration": 83,
        "start_time": "2022-06-17T05:19:06.757Z"
      },
      {
        "duration": 51,
        "start_time": "2022-06-17T05:19:06.844Z"
      },
      {
        "duration": 17,
        "start_time": "2022-06-17T05:19:06.897Z"
      },
      {
        "duration": 66,
        "start_time": "2022-06-17T05:19:06.916Z"
      },
      {
        "duration": 15,
        "start_time": "2022-06-17T05:19:06.985Z"
      },
      {
        "duration": 28,
        "start_time": "2022-06-17T05:19:07.002Z"
      },
      {
        "duration": 75,
        "start_time": "2022-06-17T05:19:07.033Z"
      },
      {
        "duration": 22,
        "start_time": "2022-06-17T05:19:07.110Z"
      },
      {
        "duration": 45,
        "start_time": "2022-06-17T05:19:07.134Z"
      },
      {
        "duration": 19,
        "start_time": "2022-06-17T05:19:07.182Z"
      },
      {
        "duration": 30,
        "start_time": "2022-06-17T05:19:43.978Z"
      },
      {
        "duration": 55,
        "start_time": "2022-06-17T05:20:03.099Z"
      },
      {
        "duration": 29,
        "start_time": "2022-06-17T05:20:05.659Z"
      },
      {
        "duration": 32,
        "start_time": "2022-06-17T05:20:14.046Z"
      },
      {
        "duration": 38,
        "start_time": "2022-06-17T05:20:24.427Z"
      },
      {
        "duration": 53,
        "start_time": "2022-06-17T05:20:46.234Z"
      },
      {
        "duration": 61,
        "start_time": "2022-06-17T05:21:09.386Z"
      },
      {
        "duration": 43,
        "start_time": "2022-06-17T05:21:11.947Z"
      },
      {
        "duration": 30,
        "start_time": "2022-06-17T05:21:24.157Z"
      },
      {
        "duration": 30,
        "start_time": "2022-06-17T05:21:29.462Z"
      },
      {
        "duration": 5,
        "start_time": "2022-06-17T05:22:08.652Z"
      },
      {
        "duration": 5,
        "start_time": "2022-06-17T05:22:19.064Z"
      },
      {
        "duration": 6,
        "start_time": "2022-06-17T05:22:44.665Z"
      },
      {
        "duration": 66,
        "start_time": "2022-06-17T05:22:58.984Z"
      },
      {
        "duration": 70,
        "start_time": "2022-06-17T05:23:15.912Z"
      },
      {
        "duration": 28,
        "start_time": "2022-06-17T05:23:22.047Z"
      },
      {
        "duration": 9,
        "start_time": "2022-06-17T05:28:46.380Z"
      },
      {
        "duration": 8,
        "start_time": "2022-06-17T05:28:57.077Z"
      },
      {
        "duration": 28,
        "start_time": "2022-06-17T05:29:08.320Z"
      },
      {
        "duration": 747,
        "start_time": "2022-06-17T05:30:56.442Z"
      },
      {
        "duration": 8,
        "start_time": "2022-06-17T05:32:34.755Z"
      },
      {
        "duration": 388,
        "start_time": "2022-06-17T05:34:11.897Z"
      },
      {
        "duration": 23,
        "start_time": "2022-06-17T05:34:12.288Z"
      },
      {
        "duration": 75,
        "start_time": "2022-06-17T05:34:12.313Z"
      },
      {
        "duration": 18,
        "start_time": "2022-06-17T05:34:12.391Z"
      },
      {
        "duration": 60,
        "start_time": "2022-06-17T05:34:12.411Z"
      },
      {
        "duration": 8,
        "start_time": "2022-06-17T05:34:12.477Z"
      },
      {
        "duration": 17,
        "start_time": "2022-06-17T05:34:12.488Z"
      },
      {
        "duration": 21,
        "start_time": "2022-06-17T05:34:12.507Z"
      },
      {
        "duration": 46,
        "start_time": "2022-06-17T05:34:12.533Z"
      },
      {
        "duration": 28,
        "start_time": "2022-06-17T05:34:12.583Z"
      },
      {
        "duration": 96,
        "start_time": "2022-06-17T05:34:12.612Z"
      },
      {
        "duration": 11,
        "start_time": "2022-06-17T05:34:12.710Z"
      },
      {
        "duration": 31,
        "start_time": "2022-06-17T05:34:12.723Z"
      },
      {
        "duration": 44,
        "start_time": "2022-06-17T05:34:12.755Z"
      },
      {
        "duration": 19,
        "start_time": "2022-06-17T05:34:12.801Z"
      },
      {
        "duration": 19,
        "start_time": "2022-06-17T05:34:12.822Z"
      },
      {
        "duration": 39,
        "start_time": "2022-06-17T05:34:12.843Z"
      },
      {
        "duration": 14,
        "start_time": "2022-06-17T05:34:12.884Z"
      },
      {
        "duration": 11,
        "start_time": "2022-06-17T05:34:12.900Z"
      },
      {
        "duration": 4,
        "start_time": "2022-06-17T05:34:12.912Z"
      },
      {
        "duration": 43,
        "start_time": "2022-06-17T05:34:12.917Z"
      },
      {
        "duration": 19,
        "start_time": "2022-06-17T05:34:12.966Z"
      },
      {
        "duration": 7,
        "start_time": "2022-06-17T05:34:12.987Z"
      },
      {
        "duration": 9,
        "start_time": "2022-06-17T05:34:12.996Z"
      },
      {
        "duration": 62,
        "start_time": "2022-06-17T05:34:13.006Z"
      },
      {
        "duration": 7,
        "start_time": "2022-06-17T05:34:13.070Z"
      },
      {
        "duration": 6,
        "start_time": "2022-06-17T05:34:13.078Z"
      },
      {
        "duration": 6,
        "start_time": "2022-06-17T05:34:13.087Z"
      },
      {
        "duration": 30,
        "start_time": "2022-06-17T05:34:13.095Z"
      },
      {
        "duration": 10,
        "start_time": "2022-06-17T05:34:13.127Z"
      },
      {
        "duration": 46,
        "start_time": "2022-06-17T05:34:13.139Z"
      },
      {
        "duration": 6,
        "start_time": "2022-06-17T05:34:13.188Z"
      },
      {
        "duration": 59,
        "start_time": "2022-06-17T05:34:13.197Z"
      },
      {
        "duration": 10,
        "start_time": "2022-06-17T05:34:13.258Z"
      },
      {
        "duration": 53,
        "start_time": "2022-06-17T05:34:13.271Z"
      },
      {
        "duration": 53,
        "start_time": "2022-06-17T05:34:13.327Z"
      },
      {
        "duration": 41,
        "start_time": "2022-06-17T05:34:13.382Z"
      },
      {
        "duration": 23,
        "start_time": "2022-06-17T05:34:13.424Z"
      },
      {
        "duration": 49,
        "start_time": "2022-06-17T05:34:13.451Z"
      },
      {
        "duration": 5,
        "start_time": "2022-06-17T05:34:13.502Z"
      },
      {
        "duration": 48,
        "start_time": "2022-06-17T10:14:36.892Z"
      },
      {
        "duration": 7,
        "start_time": "2022-06-17T10:14:56.761Z"
      },
      {
        "duration": 5,
        "start_time": "2022-06-17T10:15:00.455Z"
      },
      {
        "duration": 660,
        "start_time": "2022-06-17T10:15:11.113Z"
      },
      {
        "duration": 22,
        "start_time": "2022-06-17T10:15:11.776Z"
      },
      {
        "duration": 16,
        "start_time": "2022-06-17T10:15:11.799Z"
      },
      {
        "duration": 11,
        "start_time": "2022-06-17T10:15:11.817Z"
      },
      {
        "duration": 33,
        "start_time": "2022-06-17T10:15:11.829Z"
      },
      {
        "duration": 3,
        "start_time": "2022-06-17T10:15:11.864Z"
      },
      {
        "duration": 10,
        "start_time": "2022-06-17T10:15:11.895Z"
      },
      {
        "duration": 4,
        "start_time": "2022-06-17T10:15:11.907Z"
      },
      {
        "duration": 11,
        "start_time": "2022-06-17T10:15:11.913Z"
      },
      {
        "duration": 9,
        "start_time": "2022-06-17T10:15:11.927Z"
      },
      {
        "duration": 56,
        "start_time": "2022-06-17T10:15:11.938Z"
      },
      {
        "duration": 9,
        "start_time": "2022-06-17T10:15:11.996Z"
      },
      {
        "duration": 5,
        "start_time": "2022-06-17T10:15:12.006Z"
      },
      {
        "duration": 20,
        "start_time": "2022-06-17T10:15:12.012Z"
      },
      {
        "duration": 16,
        "start_time": "2022-06-17T10:15:12.033Z"
      },
      {
        "duration": 11,
        "start_time": "2022-06-17T10:15:12.050Z"
      },
      {
        "duration": 31,
        "start_time": "2022-06-17T10:15:12.063Z"
      },
      {
        "duration": 14,
        "start_time": "2022-06-17T10:15:12.096Z"
      },
      {
        "duration": 5,
        "start_time": "2022-06-17T10:15:12.112Z"
      },
      {
        "duration": 4,
        "start_time": "2022-06-17T10:15:12.119Z"
      },
      {
        "duration": 15,
        "start_time": "2022-06-17T10:15:12.124Z"
      },
      {
        "duration": 5,
        "start_time": "2022-06-17T10:15:12.140Z"
      },
      {
        "duration": 5,
        "start_time": "2022-06-17T10:15:12.147Z"
      },
      {
        "duration": 9,
        "start_time": "2022-06-17T10:15:12.153Z"
      },
      {
        "duration": 3,
        "start_time": "2022-06-17T10:15:12.164Z"
      },
      {
        "duration": 52,
        "start_time": "2022-06-17T10:15:12.169Z"
      },
      {
        "duration": 6,
        "start_time": "2022-06-17T10:15:12.222Z"
      },
      {
        "duration": 6,
        "start_time": "2022-06-17T10:15:12.231Z"
      },
      {
        "duration": 6,
        "start_time": "2022-06-17T10:15:12.239Z"
      },
      {
        "duration": 49,
        "start_time": "2022-06-17T10:15:12.246Z"
      },
      {
        "duration": 7,
        "start_time": "2022-06-17T10:15:12.297Z"
      },
      {
        "duration": 6,
        "start_time": "2022-06-17T10:15:12.306Z"
      },
      {
        "duration": 4,
        "start_time": "2022-06-17T10:15:12.314Z"
      },
      {
        "duration": 25,
        "start_time": "2022-06-17T10:15:12.320Z"
      },
      {
        "duration": 6,
        "start_time": "2022-06-17T10:15:12.347Z"
      },
      {
        "duration": 43,
        "start_time": "2022-06-17T10:15:12.354Z"
      },
      {
        "duration": 5,
        "start_time": "2022-06-17T10:15:12.399Z"
      },
      {
        "duration": 33,
        "start_time": "2022-06-17T10:15:12.406Z"
      },
      {
        "duration": 11,
        "start_time": "2022-06-17T10:15:12.441Z"
      },
      {
        "duration": 10,
        "start_time": "2022-06-17T10:15:12.454Z"
      },
      {
        "duration": 31,
        "start_time": "2022-06-17T10:15:12.465Z"
      },
      {
        "duration": 69,
        "start_time": "2022-06-17T10:17:34.521Z"
      },
      {
        "duration": 25,
        "start_time": "2022-06-17T10:17:53.082Z"
      },
      {
        "duration": 6,
        "start_time": "2022-06-17T10:17:54.610Z"
      },
      {
        "duration": 24,
        "start_time": "2022-06-17T10:18:13.793Z"
      },
      {
        "duration": 23,
        "start_time": "2022-06-17T10:18:18.565Z"
      },
      {
        "duration": 4,
        "start_time": "2022-06-17T10:18:20.657Z"
      },
      {
        "duration": 22,
        "start_time": "2022-06-17T10:18:21.867Z"
      },
      {
        "duration": 4,
        "start_time": "2022-06-17T10:19:10.882Z"
      },
      {
        "duration": 427,
        "start_time": "2022-06-17T10:19:12.081Z"
      },
      {
        "duration": 4,
        "start_time": "2022-06-17T10:19:15.678Z"
      },
      {
        "duration": 24,
        "start_time": "2022-06-17T10:19:16.889Z"
      },
      {
        "duration": 21,
        "start_time": "2022-06-17T10:19:19.767Z"
      },
      {
        "duration": 24,
        "start_time": "2022-06-17T10:19:20.767Z"
      },
      {
        "duration": 4,
        "start_time": "2022-06-17T10:19:21.424Z"
      },
      {
        "duration": 22,
        "start_time": "2022-06-17T10:19:22.096Z"
      },
      {
        "duration": 23,
        "start_time": "2022-06-17T10:19:23.499Z"
      },
      {
        "duration": 3,
        "start_time": "2022-06-17T10:19:25.676Z"
      },
      {
        "duration": 24,
        "start_time": "2022-06-17T10:19:26.559Z"
      },
      {
        "duration": 4,
        "start_time": "2022-06-17T10:19:57.687Z"
      },
      {
        "duration": 37,
        "start_time": "2022-06-17T10:19:58.999Z"
      },
      {
        "duration": 3,
        "start_time": "2022-06-17T10:20:11.729Z"
      },
      {
        "duration": 27,
        "start_time": "2022-06-17T10:20:13.622Z"
      },
      {
        "duration": 34,
        "start_time": "2022-06-17T10:20:37.363Z"
      },
      {
        "duration": 4,
        "start_time": "2022-06-17T10:20:58.503Z"
      },
      {
        "duration": 25,
        "start_time": "2022-06-17T10:21:00.057Z"
      }
    ],
    "colab": {
      "provenance": [],
      "toc_visible": true,
      "include_colab_link": true
    },
    "kernelspec": {
      "display_name": "Python 3 (ipykernel)",
      "language": "python",
      "name": "python3"
    },
    "language_info": {
      "codemirror_mode": {
        "name": "ipython",
        "version": 3
      },
      "file_extension": ".py",
      "mimetype": "text/x-python",
      "name": "python",
      "nbconvert_exporter": "python",
      "pygments_lexer": "ipython3",
      "version": "3.9.5"
    },
    "toc": {
      "base_numbering": 1,
      "nav_menu": {},
      "number_sections": true,
      "sideBar": true,
      "skip_h1_title": true,
      "title_cell": "Table of Contents",
      "title_sidebar": "Contents",
      "toc_cell": false,
      "toc_position": {},
      "toc_section_display": true,
      "toc_window_display": false
    }
  },
  "nbformat": 4,
  "nbformat_minor": 5
}